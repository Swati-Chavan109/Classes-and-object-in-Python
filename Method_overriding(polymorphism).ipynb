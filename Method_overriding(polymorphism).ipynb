{
  "nbformat": 4,
  "nbformat_minor": 0,
  "metadata": {
    "colab": {
      "provenance": [],
      "authorship_tag": "ABX9TyOeVkVogH8U3K/x/+kLKX9v",
      "include_colab_link": true
    },
    "kernelspec": {
      "name": "python3",
      "display_name": "Python 3"
    },
    "language_info": {
      "name": "python"
    }
  },
  "cells": [
    {
      "cell_type": "markdown",
      "metadata": {
        "id": "view-in-github",
        "colab_type": "text"
      },
      "source": [
        "<a href=\"https://colab.research.google.com/github/Swati-Chavan109/Classes-and-object-in-Python/blob/main/Method_overriding(polymorphism).ipynb\" target=\"_parent\"><img src=\"https://colab.research.google.com/assets/colab-badge.svg\" alt=\"Open In Colab\"/></a>"
      ]
    },
    {
      "cell_type": "code",
      "execution_count": null,
      "metadata": {
        "id": "XziaSpDfdi85"
      },
      "outputs": [],
      "source": [
        "class a:#parent class\n",
        "      def disp(self):\n",
        "          print(\"this is method class\")\n",
        "class b(a):#child class\n",
        "      def disp(self)\n",
        "      super().disp()#python keyword (function)\n",
        "          print(\"this is child class method\")\n",
        "  obj=b()\n",
        "  obj.disp()"
      ]
    },
    {
      "cell_type": "code",
      "source": [
        "class a:  # parent class\n",
        "    def disp(self):\n",
        "        print(\"this is parent class method\")\n",
        "\n",
        "class b(a):  # child class\n",
        "    def disp(self):\n",
        "        super().disp()  # using super() to call parent class method\n",
        "        print(\"this is child class method\")\n",
        "\n",
        "obj = b()\n",
        "obj.disp()"
      ],
      "metadata": {
        "colab": {
          "base_uri": "https://localhost:8080/"
        },
        "id": "G28thru1tXTB",
        "outputId": "670cdb5d-4db3-44aa-84f4-ac806e8d3ad8"
      },
      "execution_count": 2,
      "outputs": [
        {
          "output_type": "stream",
          "name": "stdout",
          "text": [
            "this is parent class method\n",
            "this is child class method\n"
          ]
        }
      ]
    }
  ]
}