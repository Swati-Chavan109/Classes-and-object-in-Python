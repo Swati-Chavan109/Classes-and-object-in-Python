{
  "nbformat": 4,
  "nbformat_minor": 0,
  "metadata": {
    "colab": {
      "provenance": [],
      "authorship_tag": "ABX9TyN66EhVHpvdvFXuoaVdwbdC",
      "include_colab_link": true
    },
    "kernelspec": {
      "name": "python3",
      "display_name": "Python 3"
    },
    "language_info": {
      "name": "python"
    }
  },
  "cells": [
    {
      "cell_type": "markdown",
      "metadata": {
        "id": "view-in-github",
        "colab_type": "text"
      },
      "source": [
        "<a href=\"https://colab.research.google.com/github/Swati-Chavan109/Classes-and-object-in-Python/blob/main/inheritance_.ipynb\" target=\"_parent\"><img src=\"https://colab.research.google.com/assets/colab-badge.svg\" alt=\"Open In Colab\"/></a>"
      ]
    },
    {
      "cell_type": "code",
      "execution_count": 3,
      "metadata": {
        "colab": {
          "base_uri": "https://localhost:8080/"
        },
        "id": "KX2iHWiTBg9p",
        "outputId": "c3598dc8-259b-4bfc-e034-3099d6a4e8ab"
      },
      "outputs": [
        {
          "output_type": "stream",
          "name": "stdout",
          "text": [
            "PARENT CLASS\n",
            "CHILD CLASS\n"
          ]
        }
      ],
      "source": [
        "class parent:\n",
        "    def display(self):\n",
        "        print(\"PARENT CLASS\")\n",
        "\n",
        "class child(parent):\n",
        "    def show(self):\n",
        "        print(\"CHILD CLASS\")\n",
        "\n",
        "# Creating objects\n",
        "obj_child = child()\n",
        "\n",
        "# Calling methods\n",
        "obj_child.display()  # This will print \"PARENT CLASS\" because child inherits the display() method from parent\n",
        "obj_child.show()     # This will print \"CHILD CLASS\""
      ]
    },
    {
      "cell_type": "code",
      "source": [
        "C=child()\n",
        "C.display()\n",
        "C.show()"
      ],
      "metadata": {
        "colab": {
          "base_uri": "https://localhost:8080/"
        },
        "id": "5Pep6dhGKQC-",
        "outputId": "418cf03e-3505-4b68-8812-507a7a5f61ed"
      },
      "execution_count": 6,
      "outputs": [
        {
          "output_type": "stream",
          "name": "stdout",
          "text": [
            "PARENT CLASS\n",
            "CHILD CLASS\n"
          ]
        }
      ]
    }
  ]
}