{
  "nbformat": 4,
  "nbformat_minor": 0,
  "metadata": {
    "colab": {
      "provenance": [],
      "authorship_tag": "ABX9TyN6cWuzoeaV+TGXKXHcwntr",
      "include_colab_link": true
    },
    "kernelspec": {
      "name": "python3",
      "display_name": "Python 3"
    },
    "language_info": {
      "name": "python"
    }
  },
  "cells": [
    {
      "cell_type": "markdown",
      "metadata": {
        "id": "view-in-github",
        "colab_type": "text"
      },
      "source": [
        "<a href=\"https://colab.research.google.com/github/Swati-Chavan109/Classes-and-object-in-Python/blob/main/classes_and_object_in_python_.ipynb\" target=\"_parent\"><img src=\"https://colab.research.google.com/assets/colab-badge.svg\" alt=\"Open In Colab\"/></a>"
      ]
    },
    {
      "cell_type": "code",
      "execution_count": 2,
      "metadata": {
        "colab": {
          "base_uri": "https://localhost:8080/"
        },
        "id": "TM6YLZusOse9",
        "outputId": "942b2b4d-9ef4-4bfb-aacd-b4e99c1bdd61"
      },
      "outputs": [
        {
          "output_type": "stream",
          "name": "stdout",
          "text": [
            "rno= 123\n",
            "name= abc\n",
            "branch= cse\n",
            "reading\n"
          ]
        }
      ],
      "source": [
        "#object creation\n",
        "class student:\n",
        "  rno=123\n",
        "  name=\"abc\"\n",
        "  branch=\"cse\"\n",
        "  def read(self):#self is argument\n",
        "       print(\"reading\")\n",
        "#abc is the object of class student\n",
        "abc=student()\n",
        "print(\"rno=\",abc.rno)\n",
        "print(\"name=\",abc.name)\n",
        "print(\"branch=\",abc.branch)\n",
        "abc.read()"
      ]
    }
  ]
}